{
 "cells": [
  {
   "cell_type": "code",
   "execution_count": null,
   "id": "91e4b5a3",
   "metadata": {},
   "outputs": [],
   "source": [
    "import numpy as np\n",
    "import pandas as pd\n",
    "\n",
    "import scipy.cluster.hierarchy as hcluster\n",
    "import scipy.spatial.distance as scidist\n",
    "from scipy.stats import spearmanr\n",
    "\n",
    "import networkx as nx\n",
    "\n",
    "from matplotlib import pyplot as plt\n",
    "import seaborn as sns\n",
    "from matplotlib.backends.backend_pdf import PdfPages\n",
    "\n",
    "plt.switch_backend('agg')\n",
    "\n"
   ]
  },
  {
   "cell_type": "code",
   "execution_count": null,
   "id": "f371c92c",
   "metadata": {},
   "outputs": [],
   "source": [
    "df=pd.read_csv('forCorrelation.csv',index_col='Accession')\n",
    "df"
   ]
  },
  {
   "cell_type": "code",
   "execution_count": null,
   "id": "7c80e553",
   "metadata": {},
   "outputs": [],
   "source": [
    "matrix = df.transpose().corr()\n",
    "matrix"
   ]
  },
  {
   "cell_type": "code",
   "execution_count": null,
   "id": "02962532",
   "metadata": {},
   "outputs": [],
   "source": [
    "def correlation_cluster(corr, abs_corr=False):\n",
    "    corr_dist = scidist.squareform(corr.values, checks=False)\n",
    "    corr_dist = 1 - np.abs(corr_dist) if abs_corr else 1 - corr_dist\n",
    "    gene_clusters= hcluster.linkage(corr_dist, method=\"average\")\n",
    "    gene_leaves = hcluster.leaves_list(gene_clusters)\n",
    "\n",
    "    clustered_corr = corr.values[gene_leaves, :][:, gene_leaves]\n",
    "    clustered_genes = [corr.columns[i] for i in gene_leaves]\n",
    "    rv = pd.DataFrame(clustered_corr, \n",
    "                      columns=clustered_genes, index=clustered_genes)\n",
    "\n",
    "    # transform the linkage matrix for the reordered columns\n",
    "    new_indices = np.argsort(gene_leaves).astype(np.int)\n",
    "    new_linkage = gene_clusters.copy()\n",
    "    old0 = np.nonzero(new_linkage[:, 0] < len(gene_leaves))[0]\n",
    "    old1 = np.nonzero(new_linkage[:, 1] < len(gene_leaves))[0]\n",
    "    new_linkage[old0, 0] = new_indices[new_linkage[old0, 0].astype(np.int)]\n",
    "    new_linkage[old1, 1] = new_indices[new_linkage[old1, 1].astype(np.int)]\n",
    "    rv.linkage = new_linkage\n",
    "\n",
    "    return rv"
   ]
  },
  {
   "cell_type": "code",
   "execution_count": null,
   "id": "d4f91f2c",
   "metadata": {},
   "outputs": [],
   "source": [
    "import scipy.cluster.hierarchy as hcluster\n",
    "import scipy.spatial.distance as scidist\n",
    "reshaped_matrix=correlation_cluster(matrix, abs_corr=False)"
   ]
  },
  {
   "cell_type": "code",
   "execution_count": null,
   "id": "977f24f6",
   "metadata": {},
   "outputs": [],
   "source": [
    "reshaped_matrix.mean().mean()"
   ]
  },
  {
   "cell_type": "code",
   "execution_count": null,
   "id": "fe4bb0de",
   "metadata": {},
   "outputs": [],
   "source": [
    "import seaborn as sns\n",
    "plt.rcParams['figure.figsize']=[10,10]\n",
    "sns.heatmap(data=reshaped_matrix.fillna(0),cmap='bwr',vmin=-1)"
   ]
  },
  {
   "cell_type": "code",
   "execution_count": null,
   "id": "de16d447",
   "metadata": {},
   "outputs": [],
   "source": [
    "def boundaries2(cor, percentile, threshold, frozen=None):\n",
    "    if frozen == None:\n",
    "        frozen = [False for i in range(cor.shape[1])]\n",
    "    def find_clusters(tree):\n",
    "        if tree.is_leaf():\n",
    "            if frozen[tree.id]:\n",
    "                return ([tree.id, tree.id + 1], True)\n",
    "            else:\n",
    "                return ([tree.id, tree.id + 1], False)\n",
    "\n",
    "        (left_clusters, left_frozen) = find_clusters(tree.left)\n",
    "        (right_clusters, right_frozen) = find_clusters(tree.right)\n",
    "\n",
    "        if left_frozen or right_frozen:\n",
    "            return (left_clusters[:-1] + right_clusters, True)\n",
    "        else:\n",
    "            joint_values = cor.values[left_clusters[0]:left_clusters[-1], \n",
    "                                       right_clusters[0]:right_clusters[-1]].flatten()\n",
    "            if np.sum(np.abs(joint_values) >= threshold) >= percentile*int(len(joint_values)) :\n",
    "                return ([left_clusters[0], right_clusters[-1]], False)\n",
    "            else:\n",
    "                return (left_clusters[:-1] + right_clusters, False)\n",
    "\n",
    "    tree = hcluster.to_tree(cor.linkage)\n",
    "    (clusters, is_frozen) = find_clusters(tree)\n",
    "\n",
    "    return clusters"
   ]
  },
  {
   "cell_type": "code",
   "execution_count": null,
   "id": "afff6fbc",
   "metadata": {},
   "outputs": [],
   "source": [
    "Uclusters = boundaries2(reshaped_matrix, 0.8, 0.3)\n",
    "Lbdry = zip(Uclusters[:-1], Uclusters[1:])\n",
    "Lbdry_large = [(a, b) for (a, b) in Lbdry if b - a >= 5]\n",
    "Lbdry_large"
   ]
  },
  {
   "cell_type": "code",
   "execution_count": null,
   "id": "64ec571b",
   "metadata": {},
   "outputs": [],
   "source": [
    "reshaped_matrix.to_csv('E:/ManuscirptI/script/ReorderCorrelation.csv',header=True,index=True)\n",
    "type(Lbdry_large)\n",
    "import numpy\n",
    "numpy.savetxt('E:/ManuscirptI/script/CorrelationGroup.txt',Lbdry_large)"
   ]
  }
 ],
 "metadata": {
  "kernelspec": {
   "display_name": "Python 3",
   "language": "python",
   "name": "python3"
  },
  "language_info": {
   "codemirror_mode": {
    "name": "ipython",
    "version": 3
   },
   "file_extension": ".py",
   "mimetype": "text/x-python",
   "name": "python",
   "nbconvert_exporter": "python",
   "pygments_lexer": "ipython3",
   "version": "3.8.8"
  }
 },
 "nbformat": 4,
 "nbformat_minor": 5
}
